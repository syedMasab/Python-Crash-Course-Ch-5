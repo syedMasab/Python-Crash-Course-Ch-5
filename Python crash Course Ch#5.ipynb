{
 "cells": [
  {
   "cell_type": "code",
   "execution_count": 1,
   "id": "c3242c3f",
   "metadata": {},
   "outputs": [],
   "source": [
    "#example\n",
    "cars=[\"audi\",\"bmw\",\"toyota\",\"nisan\"]"
   ]
  },
  {
   "cell_type": "code",
   "execution_count": 4,
   "id": "8e739ac2",
   "metadata": {},
   "outputs": [
    {
     "name": "stdout",
     "output_type": "stream",
     "text": [
      "Audi\n",
      "BMW\n",
      "Toyota\n",
      "Nisan\n"
     ]
    }
   ],
   "source": [
    "for car in cars:\n",
    "    if car=='bmw':\n",
    "        print(car.upper())\n",
    "    else :\n",
    "        print(car.title())"
   ]
  },
  {
   "cell_type": "code",
   "execution_count": 5,
   "id": "a0e44193",
   "metadata": {},
   "outputs": [
    {
     "name": "stdout",
     "output_type": "stream",
     "text": [
      "Wrong Answer\n"
     ]
    }
   ],
   "source": [
    "answer=17\n",
    "if answer!=25:\n",
    "    print(\"Wrong Answer\")"
   ]
  },
  {
   "cell_type": "code",
   "execution_count": 8,
   "id": "9dffe440",
   "metadata": {},
   "outputs": [
    {
     "name": "stdout",
     "output_type": "stream",
     "text": [
      "Marie, you can post a response if you wish.\n"
     ]
    }
   ],
   "source": [
    "banned_users = ['andrew', 'carolina', 'david']\n",
    "user = 'marie'\n",
    "if user not in banned_users:\n",
    "    print(user.title() + \", you can post a response if you wish.\")"
   ]
  },
  {
   "cell_type": "code",
   "execution_count": 9,
   "id": "2ca395e7",
   "metadata": {},
   "outputs": [
    {
     "name": "stdout",
     "output_type": "stream",
     "text": [
      "is car==audi i predict True\n",
      "True\n"
     ]
    }
   ],
   "source": [
    "#5.1\n",
    "car=\"audi\"\n",
    "print(\"is car==audi i predict True\")\n",
    "print(car==\"audi\")"
   ]
  },
  {
   "cell_type": "code",
   "execution_count": 10,
   "id": "23ae242b",
   "metadata": {},
   "outputs": [
    {
     "name": "stdout",
     "output_type": "stream",
     "text": [
      "i predict that a==5 is True\n",
      "True\n"
     ]
    }
   ],
   "source": [
    "a=5\n",
    "print(\"i predict that a==5 is True\")\n",
    "print(a==5)"
   ]
  },
  {
   "cell_type": "code",
   "execution_count": 12,
   "id": "47b4729a",
   "metadata": {},
   "outputs": [
    {
     "name": "stdout",
     "output_type": "stream",
     "text": [
      "i predict that b==5 is False\n",
      "False\n"
     ]
    }
   ],
   "source": [
    "b=2\n",
    "print(\"i predict that b==5 is False\")\n",
    "print(b==5)\n"
   ]
  },
  {
   "cell_type": "code",
   "execution_count": 13,
   "id": "e3368785",
   "metadata": {},
   "outputs": [
    {
     "name": "stdout",
     "output_type": "stream",
     "text": [
      "He can Vote!\n"
     ]
    }
   ],
   "source": [
    "#if Statements\n",
    "age =19\n",
    "if age>=18:\n",
    "    print(\"He can Vote!\")"
   ]
  },
  {
   "cell_type": "code",
   "execution_count": 15,
   "id": "39b42aaf",
   "metadata": {},
   "outputs": [
    {
     "name": "stdout",
     "output_type": "stream",
     "text": [
      "Sorry u r too young to vote!\n"
     ]
    }
   ],
   "source": [
    "age =17\n",
    "if age>=18:\n",
    "    print(\"you can vote now \")\n",
    "else: \n",
    "    print(\"Sorry u r too young to vote!\")"
   ]
  },
  {
   "cell_type": "code",
   "execution_count": 16,
   "id": "6ccf45a2",
   "metadata": {},
   "outputs": [
    {
     "name": "stdout",
     "output_type": "stream",
     "text": [
      "Admission cost is 5$\n"
     ]
    }
   ],
   "source": [
    "age = 12\n",
    "if age<4:\n",
    "    print(\"Admission cost is 0$\")\n",
    "elif age<18:\n",
    "    print(\"Admission cost is 5$\")\n",
    "else:\n",
    "    print(\"Adnission Cost is 10$\")"
   ]
  },
  {
   "cell_type": "code",
   "execution_count": 17,
   "id": "e3defeb7",
   "metadata": {},
   "outputs": [],
   "source": [
    " requested_toppings = ['mushrooms', 'extra cheese']"
   ]
  },
  {
   "cell_type": "code",
   "execution_count": 19,
   "id": "f65887d1",
   "metadata": {},
   "outputs": [
    {
     "name": "stdout",
     "output_type": "stream",
     "text": [
      "Adding mushrooms.\n",
      "Adding extra cheese.\n",
      "\n",
      "Finished making your pizza!\n"
     ]
    }
   ],
   "source": [
    "if 'mushrooms' in requested_toppings:\n",
    "    print(\"Adding mushrooms.\")\n",
    "if 'pepperoni' in requested_toppings:\n",
    "    print(\"Adding pepperoni.\")\n",
    "if 'extra cheese' in requested_toppings:\n",
    "    print(\"Adding extra cheese.\")\n",
    "\n",
    "print(\"\\nFinished making your pizza!\")\n"
   ]
  },
  {
   "cell_type": "code",
   "execution_count": 20,
   "id": "3878f2c4",
   "metadata": {},
   "outputs": [
    {
     "name": "stdout",
     "output_type": "stream",
     "text": [
      "Player earn 10 ponits\n"
     ]
    }
   ],
   "source": [
    "#5.3\n",
    "alien_color='green'\n",
    "if alien_color=='green':\n",
    "    print(\"Player earn 10 ponits\")"
   ]
  },
  {
   "cell_type": "code",
   "execution_count": 23,
   "id": "925328d1",
   "metadata": {},
   "outputs": [
    {
     "name": "stdout",
     "output_type": "stream",
     "text": [
      "No Output is Assign\n"
     ]
    }
   ],
   "source": [
    "alien_color='blue'\n",
    "if alien_color=='green':\n",
    "    print(\"Player earn 10 ponits\")\n",
    "else: print(\"No Output is Assign\")"
   ]
  },
  {
   "cell_type": "code",
   "execution_count": 24,
   "id": "c1331b05",
   "metadata": {},
   "outputs": [
    {
     "name": "stdout",
     "output_type": "stream",
     "text": [
      "Player earn 10 ponits\n"
     ]
    }
   ],
   "source": [
    "alien_color=\"blue\"\n",
    "if alien_color=='green':\n",
    "        print(\"Player earn 5 ponits\")\n",
    "elif alien_color=='blue':\n",
    "        print(\"Player earn 10 ponits\")\n",
    "elif alien_color==yellow:\n",
    "        print(\"Player earn 15 ponits\")\n",
    "else: print(\"No points Earned\")\n",
    "\n",
    "\n"
   ]
  },
  {
   "cell_type": "code",
   "execution_count": 25,
   "id": "fb97465c",
   "metadata": {},
   "outputs": [
    {
     "name": "stdout",
     "output_type": "stream",
     "text": [
      "person is Adult\n"
     ]
    }
   ],
   "source": [
    "age =20\n",
    "if age<2:\n",
    "    print(\"New born\")\n",
    "elif age>2 and age <4:\n",
    "    print(\"person is Toodler now\")\n",
    "elif age>4 and age<=12:\n",
    "    print(\"person is a kid\")\n",
    "elif age>12 and age<18:\n",
    "    print(\"person is Teenager\")\n",
    "elif age>18 and age<65:\n",
    "    print(\"person is Adult\")\n",
    "else: print(\"person is Elder\")"
   ]
  },
  {
   "cell_type": "code",
   "execution_count": 29,
   "id": "b20dd0b5",
   "metadata": {},
   "outputs": [
    {
     "name": "stdout",
     "output_type": "stream",
     "text": [
      " mango is My fav fruit\n"
     ]
    }
   ],
   "source": [
    "favorite_fruits=[\"mangoes\",\"bananas\",\"Apples\"]\n",
    "if 'oranges' in favorite_fruits:\n",
    "    print(\"Not my kind of fruit\")\n",
    "elif 'mangoes' in favorite_fruits:\n",
    "    print(\" mango is My fav fruit\")\n",
    "elif 'Apples' in favorite_fruits:\n",
    "    print(\"apple is My fav fruit\")\n"
   ]
  },
  {
   "cell_type": "code",
   "execution_count": 5,
   "id": "157096d1",
   "metadata": {},
   "outputs": [
    {
     "name": "stdout",
     "output_type": "stream",
     "text": [
      "Hello admin would u like to see report\n",
      "Hello, masab ,\n",
      "Hello, ahmed ,\n",
      "Hello, ali ,\n",
      "Hello, minhaj ,\n"
     ]
    }
   ],
   "source": [
    "names=[\"admin\",\"masab\",\"ahmed\",\"ali\",\"minhaj\"]\n",
    "for i in names:\n",
    "    if i=='admin':\n",
    "        print(f\"Hello admin would u like to see report\")\n",
    "    else: print(f'''Hello, {i} ,''')"
   ]
  },
  {
   "cell_type": "code",
   "execution_count": 7,
   "id": "8ae178f2",
   "metadata": {},
   "outputs": [
    {
     "name": "stdout",
     "output_type": "stream",
     "text": [
      "Great, sarah is still available.\n",
      "Great, William is still available.\n",
      "Sorry masab, that name is taken.\n",
      "Sorry Eva, that name is taken.\n",
      "Great, Iona is still available.\n"
     ]
    }
   ],
   "source": [
    "current_users = ['masab', 'ahmed', 'admin', 'erinh', 'Eva']\n",
    "new_users = ['sarah', 'William', 'masab', 'Eva', 'Iona']\n",
    "\n",
    "current_users_lower = [user.lower() for user in current_users]\n",
    "\n",
    "for new_user in new_users:\n",
    "    if new_user.lower() in current_users_lower:\n",
    "        print(\"Sorry \" + new_user + \", that name is taken.\")\n",
    "    else:\n",
    "        print(\"Great, \" + new_user + \" is still available.\")"
   ]
  },
  {
   "cell_type": "code",
   "execution_count": 8,
   "id": "d2f6423b",
   "metadata": {},
   "outputs": [
    {
     "name": "stdout",
     "output_type": "stream",
     "text": [
      "1st\n",
      "2nd\n",
      "3rd\n",
      "4th\n",
      "5th\n",
      "6th\n",
      "7th\n",
      "8th\n",
      "9th\n"
     ]
    }
   ],
   "source": [
    "numbers = list(range(1,10))\n",
    "\n",
    "for number in numbers:\n",
    "    if number == 1:\n",
    "        print(\"1st\")\n",
    "    elif number == 2:\n",
    "        print(\"2nd\")\n",
    "    elif number == 3:\n",
    "        print(\"3rd\")\n",
    "    else:\n",
    "        print(str(number) + \"th\")"
   ]
  },
  {
   "cell_type": "code",
   "execution_count": null,
   "id": "1e8d49d1",
   "metadata": {},
   "outputs": [],
   "source": []
  }
 ],
 "metadata": {
  "kernelspec": {
   "display_name": "Python 3 (ipykernel)",
   "language": "python",
   "name": "python3"
  },
  "language_info": {
   "codemirror_mode": {
    "name": "ipython",
    "version": 3
   },
   "file_extension": ".py",
   "mimetype": "text/x-python",
   "name": "python",
   "nbconvert_exporter": "python",
   "pygments_lexer": "ipython3",
   "version": "3.9.7"
  }
 },
 "nbformat": 4,
 "nbformat_minor": 5
}
